{
 "cells": [
  {
   "cell_type": "code",
   "execution_count": 2,
   "id": "00242f4f",
   "metadata": {},
   "outputs": [],
   "source": [
    "import pandas as pd\n",
    "import numpy as np\n",
    "import sklearn\n",
    "import seaborn as sns"
   ]
  },
  {
   "cell_type": "markdown",
   "id": "43618411",
   "metadata": {},
   "source": [
    "# Assignment 2: Voting Classifiers and Random Forests\n",
    "\n",
    "In this project, a *voting classifier* will be examined with the *Diagnostic Wisconsin Breast Cancer Database* in order to investigate effective models for malignant tumour detection"
   ]
  },
  {
   "cell_type": "markdown",
   "id": "110e7135",
   "metadata": {},
   "source": [
    "# Voting Classifier: The *Diagnostic Wisconsin Breast Cancer Database*"
   ]
  },
  {
   "cell_type": "markdown",
   "id": "4b13a9be",
   "metadata": {},
   "source": [
    "## Data Preparation\n"
   ]
  },
  {
   "cell_type": "code",
   "execution_count": 3,
   "id": "f6fad2dc",
   "metadata": {},
   "outputs": [
    {
     "name": "stdout",
     "output_type": "stream",
     "text": [
      "<class 'pandas.core.frame.DataFrame'>\n",
      "RangeIndex: 569 entries, 0 to 568\n",
      "Data columns (total 31 columns):\n",
      " #   Column                   Non-Null Count  Dtype  \n",
      "---  ------                   --------------  -----  \n",
      " 0   diagnosis                569 non-null    object \n",
      " 1   radius_mean              569 non-null    float64\n",
      " 2   texture_mean             569 non-null    float64\n",
      " 3   perimeter_mean           569 non-null    float64\n",
      " 4   area_mean                569 non-null    float64\n",
      " 5   smoothness_mean          569 non-null    float64\n",
      " 6   compactness_mean         569 non-null    float64\n",
      " 7   concavity_mean           569 non-null    float64\n",
      " 8   concave_points_mean      569 non-null    float64\n",
      " 9   symmetry_mean            569 non-null    float64\n",
      " 10  fractal_dimension_mean   569 non-null    float64\n",
      " 11  radius_se                569 non-null    float64\n",
      " 12  texture_se               569 non-null    float64\n",
      " 13  perimeter_se             569 non-null    float64\n",
      " 14  area_se                  569 non-null    float64\n",
      " 15  smoothness_se            569 non-null    float64\n",
      " 16  compactness_se           569 non-null    float64\n",
      " 17  concavity_se             569 non-null    float64\n",
      " 18  concave_points_se        569 non-null    float64\n",
      " 19  symmetry_se              569 non-null    float64\n",
      " 20  fractal_dimension_se     569 non-null    float64\n",
      " 21  radius_worst             569 non-null    float64\n",
      " 22  texture_worst            569 non-null    float64\n",
      " 23  perimeter_worst          569 non-null    float64\n",
      " 24  area_worst               569 non-null    float64\n",
      " 25  smoothness_worst         569 non-null    float64\n",
      " 26  compactness_worst        569 non-null    float64\n",
      " 27  concavity_worst          569 non-null    float64\n",
      " 28  concave_points_worst     569 non-null    float64\n",
      " 29  symmetry_worst           569 non-null    float64\n",
      " 30  fractal_dimension_worst  569 non-null    float64\n",
      "dtypes: float64(30), object(1)\n",
      "memory usage: 137.9+ KB\n"
     ]
    }
   ],
   "source": [
    "data = pd.read_csv('wdbc.data', header=None)\n",
    "\n",
    "# Column 0 is the ID, which is not need for classification\n",
    "# Column 1 is the diagnosis, needed as the label of the classification\n",
    "# 2 - 11 are mean values\n",
    "# 12 - 21 are standard error\n",
    "# 22 - 31 are worst\n",
    "\n",
    "# Dropping the ID column\n",
    "data.drop(columns=[0], inplace=True)\n",
    "\n",
    "# Naming the columns\n",
    "data.columns = ['diagnosis','radius_mean','texture_mean','perimeter_mean','area_mean',\n",
    "               'smoothness_mean','compactness_mean','concavity_mean','concave_points_mean',\n",
    "               'symmetry_mean','fractal_dimension_mean','radius_se','texture_se','perimeter_se',\n",
    "               'area_se','smoothness_se','compactness_se','concavity_se','concave_points_se',\n",
    "               'symmetry_se','fractal_dimension_se','radius_worst','texture_worst','perimeter_worst',\n",
    "               'area_worst','smoothness_worst','compactness_worst','concavity_worst',\n",
    "               'concave_points_worst','symmetry_worst','fractal_dimension_worst']\n",
    "\n",
    "data.info()"
   ]
  },
  {
   "cell_type": "code",
   "execution_count": 4,
   "id": "03457729",
   "metadata": {},
   "outputs": [
    {
     "name": "stdout",
     "output_type": "stream",
     "text": [
      "-------- Labels head (5) --------\n",
      "  diagnosis\n",
      "0         M\n",
      "1         M\n",
      "2         M\n",
      "3         M\n",
      "4         M\n"
     ]
    }
   ],
   "source": [
    "from sklearn.preprocessing import OrdinalEncoder\n",
    "from sklearn.model_selection import train_test_split\n",
    "\n",
    "labels = data.iloc[:, 0].values\n",
    "\n",
    "labels = pd.DataFrame(labels, columns=[\"diagnosis\"])\n",
    "\n",
    "print(\"-------- Labels head (5) --------\")\n",
    "\n",
    "print(labels.head(5))"
   ]
  },
  {
   "cell_type": "code",
   "execution_count": 5,
   "id": "3445e5d6",
   "metadata": {},
   "outputs": [
    {
     "name": "stdout",
     "output_type": "stream",
     "text": [
      "-------- Unique encoded values --------\n",
      "[0. 1.]\n",
      "-------- Encoded Labels counts --------\n",
      "(array([0., 1.]), array([357, 212]))\n"
     ]
    }
   ],
   "source": [
    "\n",
    "enc = OrdinalEncoder(categories=[[\"B\", \"M\"]])\n",
    "labels_encoded = enc.fit_transform(labels)\n",
    "labels_encoded = np.reshape(labels_encoded, -1)\n",
    "\n",
    "all_data = data.iloc[:, 1:31].values\n",
    "\n",
    "print(\"-------- Unique encoded values --------\")\n",
    "print(np.unique(labels_encoded))\n",
    "\n",
    "print(\"-------- Encoded Labels counts --------\")\n",
    "print(np.unique(labels_encoded, return_counts=True))"
   ]
  },
  {
   "cell_type": "code",
   "execution_count": 6,
   "id": "ce39e39d",
   "metadata": {},
   "outputs": [
    {
     "data": {
      "text/plain": [
       "((455, 30), (114, 30), (455,), (114,))"
      ]
     },
     "execution_count": 6,
     "metadata": {},
     "output_type": "execute_result"
    }
   ],
   "source": [
    "\n",
    "X_train, X_test, y_train, y_test = train_test_split(all_data, labels_encoded, test_size=0.2, random_state=42, stratify=labels_encoded)\n",
    "X_train.shape, X_test.shape, y_train.shape, y_test.shape"
   ]
  },
  {
   "cell_type": "code",
   "execution_count": 7,
   "id": "3d833e00",
   "metadata": {},
   "outputs": [],
   "source": [
    "from sklearn.ensemble import VotingClassifier, RandomForestClassifier\n",
    "from sklearn.linear_model import LogisticRegression\n",
    "from sklearn.svm import SVC"
   ]
  },
  {
   "cell_type": "markdown",
   "id": "e4a1c18c",
   "metadata": {},
   "source": [
    "## Logistic Regression"
   ]
  },
  {
   "cell_type": "code",
   "execution_count": 8,
   "id": "cc3e5f56",
   "metadata": {},
   "outputs": [
    {
     "name": "stdout",
     "output_type": "stream",
     "text": [
      "-------- Linear classifier score --------\n",
      "0.9385964912280702\n"
     ]
    }
   ],
   "source": [
    "linear_clf = LogisticRegression(random_state=42, max_iter=10000)\n",
    "linear_clf.fit(X_train, y_train)\n",
    "\n",
    "print(\"-------- Linear classifier score --------\")\n",
    "print(linear_clf.score(X_test, y_test))"
   ]
  },
  {
   "cell_type": "markdown",
   "id": "37e8f493",
   "metadata": {},
   "source": [
    "## Random Forest Classifier"
   ]
  },
  {
   "cell_type": "code",
   "execution_count": 9,
   "id": "fe98202a",
   "metadata": {},
   "outputs": [
    {
     "name": "stdout",
     "output_type": "stream",
     "text": [
      "-------- Random forest classifier score --------\n",
      "0.9736842105263158\n"
     ]
    }
   ],
   "source": [
    "rf_clf = RandomForestClassifier(random_state=42, n_estimators=100, max_depth=10, min_samples_split=2, min_samples_leaf=1)\n",
    "rf_clf.fit(X_train, y_train)\n",
    "\n",
    "print(\"-------- Random forest classifier score --------\")\n",
    "print(rf_clf.score(X_test, y_test))"
   ]
  },
  {
   "cell_type": "markdown",
   "id": "736a1a3e",
   "metadata": {},
   "source": [
    "## SVC Classifier"
   ]
  },
  {
   "cell_type": "code",
   "execution_count": 10,
   "id": "95d85234",
   "metadata": {},
   "outputs": [
    {
     "name": "stdout",
     "output_type": "stream",
     "text": [
      "-------- SVC classifier score --------\n",
      "0.9210526315789473\n"
     ]
    }
   ],
   "source": [
    "svc_clf = SVC(random_state=42, kernel='linear') \n",
    "svc_clf.fit(X_train, y_train)\n",
    "\n",
    "print(\"-------- SVC classifier score --------\")\n",
    "print(svc_clf.score(X_test, y_test))"
   ]
  },
  {
   "cell_type": "markdown",
   "id": "35b40df8",
   "metadata": {},
   "source": [
    "Voting Classifier"
   ]
  },
  {
   "cell_type": "code",
   "execution_count": 11,
   "id": "52d523e1",
   "metadata": {},
   "outputs": [
    {
     "name": "stdout",
     "output_type": "stream",
     "text": [
      "-------- Voting classifier score --------\n",
      "0.9385964912280702\n"
     ]
    }
   ],
   "source": [
    "voting_clf = VotingClassifier(\n",
    "    estimators=[\n",
    "    ('lr', LogisticRegression(random_state=42, max_iter=10000)),\n",
    "    ('rf', RandomForestClassifier(random_state=42, n_estimators=100, max_depth=10, min_samples_split=2, min_samples_leaf=1)),\n",
    "    ('svc', SVC(random_state=42, kernel='linear', probability=True)),\n",
    "    ],\n",
    "    voting='soft',\n",
    ")\n",
    "\n",
    "voting_clf.fit(X_train, y_train)\n",
    "print(\"-------- Voting classifier score --------\")\n",
    "print(voting_clf.score(X_test, y_test))"
   ]
  },
  {
   "cell_type": "markdown",
   "id": "b89d8079",
   "metadata": {},
   "source": [
    "## Evaluation"
   ]
  },
  {
   "cell_type": "markdown",
   "id": "0f7cca7e",
   "metadata": {},
   "source": [
    "## Results"
   ]
  },
  {
   "cell_type": "markdown",
   "id": "b16d08f1",
   "metadata": {},
   "source": [
    "# Random Forest Classifier"
   ]
  },
  {
   "cell_type": "markdown",
   "id": "2d7f449d",
   "metadata": {},
   "source": [
    "## Dataset Preparation"
   ]
  },
  {
   "cell_type": "markdown",
   "id": "c018f927",
   "metadata": {},
   "source": [
    "The *Labeled faces in the wild* dataset, is a collection of labeled images of famous faces.\n",
    "\n",
    "The **data** attribute contains the dataset in a format in which each sample is an unravelled instance of an 62*47 image, thus containing an array of length 2914.\n",
    "\n",
    "The **images** attribute contains the dataset in a format in which each image is a 62*47 image.\n",
    "\n",
    "The **target** attribute contains the label of each images, with an index correlating to a name.\n",
    "\n",
    "Each instance in the dataset, is an individual image in a specific format."
   ]
  },
  {
   "cell_type": "code",
   "execution_count": 12,
   "id": "c3dbc6d4",
   "metadata": {},
   "outputs": [
    {
     "name": "stdout",
     "output_type": "stream",
     "text": [
      "(2914,)\n"
     ]
    }
   ],
   "source": [
    "from sklearn.datasets import fetch_lfw_people\n",
    "lfw_people = fetch_lfw_people(min_faces_per_person=70, resize=0.5)\n",
    "n_samples, h, w = lfw_people.images.shape\n",
    "\n",
    "X = lfw_people.data\n",
    "n_features = X.shape[1]\n",
    "y = lfw_people.target\n",
    "\n",
    "target_names = lfw_people.target_names\n",
    "n_classes = target_names.shape[0]\n",
    "\n",
    "print(lfw_people.data[0].shape)"
   ]
  },
  {
   "cell_type": "markdown",
   "id": "84b6a0c8",
   "metadata": {},
   "source": [
    "We can then load the dataset with the *data* attribute, giving us a dataset with *2914* features, with each feature corresponding to a given pixel."
   ]
  },
  {
   "cell_type": "code",
   "execution_count": 13,
   "id": "201d985d",
   "metadata": {},
   "outputs": [
    {
     "data": {
      "text/plain": [
       "2914"
      ]
     },
     "execution_count": 13,
     "metadata": {},
     "output_type": "execute_result"
    }
   ],
   "source": [
    "n_features"
   ]
  },
  {
   "cell_type": "markdown",
   "id": "8d88b4d5",
   "metadata": {},
   "source": [
    "Each class corresponds to a target name."
   ]
  },
  {
   "cell_type": "code",
   "execution_count": 14,
   "id": "f96e247d",
   "metadata": {},
   "outputs": [
    {
     "name": "stdout",
     "output_type": "stream",
     "text": [
      "7\n",
      "['Ariel Sharon' 'Colin Powell' 'Donald Rumsfeld' 'George W Bush'\n",
      " 'Gerhard Schroeder' 'Hugo Chavez' 'Tony Blair']\n"
     ]
    }
   ],
   "source": [
    "print(n_classes)\n",
    "print(lfw_people.target_names)"
   ]
  },
  {
   "cell_type": "markdown",
   "id": "ae8f21fc",
   "metadata": {},
   "source": [
    "We can then split the data with scikit's train_test_split."
   ]
  },
  {
   "cell_type": "code",
   "execution_count": 15,
   "id": "87b8d1e3",
   "metadata": {},
   "outputs": [
    {
     "data": {
      "text/plain": [
       "((1030, 2914), (258, 2914), (1030,), (258,))"
      ]
     },
     "execution_count": 15,
     "metadata": {},
     "output_type": "execute_result"
    }
   ],
   "source": [
    "x_train, x_test, y_train, y_test = train_test_split(X, y, test_size=0.2, random_state=42, stratify=y)\n",
    "x_train.shape, x_test.shape, y_train.shape, y_test.shape"
   ]
  },
  {
   "cell_type": "markdown",
   "id": "828abc8d",
   "metadata": {},
   "source": [
    "Example training image"
   ]
  },
  {
   "cell_type": "code",
   "execution_count": 16,
   "id": "66d9d314",
   "metadata": {},
   "outputs": [
    {
     "data": {
      "text/plain": [
       "(np.float64(-0.5), np.float64(46.5), np.float64(61.5), np.float64(-0.5))"
      ]
     },
     "execution_count": 16,
     "metadata": {},
     "output_type": "execute_result"
    },
    {
     "data": {
      "image/png": "[encoded data removed]",
      "text/plain": [
       "<Figure size 640x480 with 1 Axes>"
      ]
     },
     "metadata": {},
     "output_type": "display_data"
    }
   ],
   "source": [
    "import cv2\n",
    "import matplotlib.pyplot as plt\n",
    "\n",
    "train_img = x_train[np.random.randint(0,len(x_train))].reshape(h, w)   \n",
    "train_img = cv2.cvtColor(train_img, cv2.COLOR_BGR2RGB)\n",
    "plt.imshow(train_img)\n",
    "plt.axis('off')"
   ]
  },
  {
   "cell_type": "markdown",
   "id": "eaaefde8",
   "metadata": {},
   "source": [
    "Example test image."
   ]
  },
  {
   "cell_type": "code",
   "execution_count": 17,
   "id": "62bfeab9",
   "metadata": {},
   "outputs": [
    {
     "data": {
      "text/plain": [
       "(np.float64(-0.5), np.float64(46.5), np.float64(61.5), np.float64(-0.5))"
      ]
     },
     "execution_count": 17,
     "metadata": {},
     "output_type": "execute_result"
    },
    {
     "data": {
      "image/png": "[encoded data removed]",
      "text/plain": [
       "<Figure size 640x480 with 1 Axes>"
      ]
     },
     "metadata": {},
     "output_type": "display_data"
    }
   ],
   "source": [
    "import cv2\n",
    "import matplotlib.pyplot as plt\n",
    "\n",
    "train_img = x_test[np.random.randint(0,len(x_test))].reshape(h, w)   \n",
    "train_img = cv2.cvtColor(train_img, cv2.COLOR_BGR2RGB)\n",
    "plt.imshow(train_img)\n",
    "plt.axis('off')"
   ]
  },
  {
   "cell_type": "markdown",
   "id": "7f42262f",
   "metadata": {},
   "source": [
    "## The Model"
   ]
  },
  {
   "cell_type": "code",
   "execution_count": null,
   "id": "905e2cf2",
   "metadata": {},
   "outputs": [],
   "source": [
    "rf_clf = RandomForestClassifier(random_state=42, n_estimators=1000)\n",
    "rf_clf.fit(x_train, y_train)"
   ]
  },
  {
   "cell_type": "code",
   "execution_count": null,
   "id": "013a6606",
   "metadata": {},
   "outputs": [
    {
     "name": "stdout",
     "output_type": "stream",
     "text": [
      "              precision    recall  f1-score   support\n",
      "\n",
      "           0       1.00      0.06      0.12        16\n",
      "           1       0.82      0.79      0.80        47\n",
      "           2       1.00      0.33      0.50        24\n",
      "           3       0.58      0.98      0.73       106\n",
      "           4       0.86      0.27      0.41        22\n",
      "           5       1.00      0.21      0.35        14\n",
      "           6       0.67      0.34      0.45        29\n",
      "\n",
      "    accuracy                           0.66       258\n",
      "   macro avg       0.85      0.43      0.48       258\n",
      "weighted avg       0.75      0.66      0.61       258\n",
      "\n"
     ]
    },
    {
     "data": {
      "image/png": "[encoded data removed]",
      "text/plain": [
       "<Figure size 800x600 with 2 Axes>"
      ]
     },
     "metadata": {},
     "output_type": "display_data"
    },
    {
     "name": "stdout",
     "output_type": "stream",
     "text": [
      "Precision: 0.75\n",
      "Recall: 0.66\n",
      "F-Score: 0.61\n",
      "[3.46637695e-03 2.97983898e-03 2.93768775e-03 ... 1.17474866e-04\n",
      " 1.14041523e-04 9.92665682e-05]\n"
     ]
    }
   ],
   "source": [
    "from sklearn.metrics import confusion_matrix, classification_report, precision_recall_curve, precision_recall_fscore_support\n",
    "\n",
    "# Performance on test data\n",
    "y_pred = rf_clf.predict(x_test)\n",
    "print(classification_report(y_test, y_pred))\n",
    "cf_data = confusion_matrix(y_test, y_pred)\n",
    "\n",
    "# Create the heatmap\n",
    "plt.figure(figsize=(8, 6))\n",
    "sns.heatmap(cf_data, annot=True, fmt='d', cmap='Blues',)\n",
    "plt.xlabel('Predicted Label')\n",
    "plt.ylabel('True Label')\n",
    "plt.title('Confusion Matrix')\n",
    "plt.show()\n",
    "\n",
    "\n",
    "precision, recall, fscore, _ = precision_recall_fscore_support(y_test, y_pred, average='weighted')\n",
    "\n",
    "print(\"Precision: {:.2f}\".format(precision))\n",
    "print(\"Recall: {:.2f}\".format(recall))\n",
    "print(\"F-Score: {:.2f}\".format(fscore))\n"
   ]
  },
  {
   "cell_type": "code",
   "execution_count": null,
   "id": "3bea41f7",
   "metadata": {},
   "outputs": [
    {
     "data": {
      "image/png": "[encoded data removed]",
      "text/plain": [
       "<Figure size 1000x600 with 1 Axes>"
      ]
     },
     "metadata": {},
     "output_type": "display_data"
    }
   ],
   "source": [
    "plt.figure(figsize=(10, 6))\n",
    "plt.bar(range(len(rf_clf.feature_importances_)), rf_clf.feature_importances_, color='blue', align='center')\n",
    "plt.xlabel('Feature Index')\n",
    "plt.ylabel('Importance')\n",
    "plt.title('Feature Importances')\n",
    "plt.show()"
   ]
  },
  {
   "cell_type": "markdown",
   "id": "cad6a1cf",
   "metadata": {},
   "source": [
    "### PCA on the features"
   ]
  },
  {
   "cell_type": "code",
   "execution_count": null,
   "id": "0657a2c7",
   "metadata": {},
   "outputs": [
    {
     "ename": "NameError",
     "evalue": "name 'lfw_people' is not defined",
     "output_type": "error",
     "traceback": [
      "\u001b[31m---------------------------------------------------------------------------\u001b[39m",
      "\u001b[31mNameError\u001b[39m                                 Traceback (most recent call last)",
      "\u001b[36mCell\u001b[39m\u001b[36m \u001b[39m\u001b[32mIn[1]\u001b[39m\u001b[32m, line 4\u001b[39m\n\u001b[32m      1\u001b[39m \u001b[38;5;28;01mfrom\u001b[39;00m\u001b[38;5;250m \u001b[39m\u001b[34;01msklearn\u001b[39;00m\u001b[34;01m.\u001b[39;00m\u001b[34;01mdecomposition\u001b[39;00m\u001b[38;5;250m \u001b[39m\u001b[38;5;28;01mimport\u001b[39;00m PCA\n\u001b[32m      3\u001b[39m pca = PCA(n_components=\u001b[32m150\u001b[39m)\n\u001b[32m----> \u001b[39m\u001b[32m4\u001b[39m data_reduced = pca.fit_transform(\u001b[43mlfw_people\u001b[49m.data)\n\u001b[32m      5\u001b[39m \u001b[38;5;28mprint\u001b[39m(data_reduced.shape)\n",
      "\u001b[31mNameError\u001b[39m: name 'lfw_people' is not defined"
     ]
    }
   ],
   "source": [
    "from sklearn.decomposition import PCA\n",
    "\n",
    "pca = PCA(n_components=150)\n",
    "data_reduced = pca.fit_transform(lfw_people.data)\n",
    "print(data_reduced.shape)"
   ]
  }
 ],
 "metadata": {
  "kernelspec": {
   "display_name": ".venv",
   "language": "python",
   "name": "python3"
  },
  "language_info": {
   "codemirror_mode": {
    "name": "ipython",
    "version": 3
   },
   "file_extension": ".py",
   "mimetype": "text/x-python",
   "name": "python",
   "nbconvert_exporter": "python",
   "pygments_lexer": "ipython3",
   "version": "3.12.10"
  }
 },
 "nbformat": 4,
 "nbformat_minor": 5
}
